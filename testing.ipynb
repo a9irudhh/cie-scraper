{
 "cells": [
  {
   "cell_type": "code",
   "execution_count": 40,
   "id": "7c820ba6-2bb3-4903-b7ef-c319a17574bb",
   "metadata": {},
   "outputs": [
    {
     "name": "stdout",
     "output_type": "stream",
     "text": [
      "Requirement already satisfied: selenium in ./myenv/lib/python3.12/site-packages (4.33.0)\n",
      "Collecting tabulate\n",
      "  Downloading tabulate-0.9.0-py3-none-any.whl.metadata (34 kB)\n",
      "Requirement already satisfied: urllib3~=2.4.0 in ./myenv/lib/python3.12/site-packages (from urllib3[socks]~=2.4.0->selenium) (2.4.0)\n",
      "Requirement already satisfied: trio~=0.30.0 in ./myenv/lib/python3.12/site-packages (from selenium) (0.30.0)\n",
      "Requirement already satisfied: trio-websocket~=0.12.2 in ./myenv/lib/python3.12/site-packages (from selenium) (0.12.2)\n",
      "Requirement already satisfied: certifi>=2025.4.26 in ./myenv/lib/python3.12/site-packages (from selenium) (2025.6.15)\n",
      "Requirement already satisfied: typing_extensions~=4.13.2 in ./myenv/lib/python3.12/site-packages (from selenium) (4.13.2)\n",
      "Requirement already satisfied: websocket-client~=1.8.0 in ./myenv/lib/python3.12/site-packages (from selenium) (1.8.0)\n",
      "Requirement already satisfied: attrs>=23.2.0 in ./myenv/lib/python3.12/site-packages (from trio~=0.30.0->selenium) (25.3.0)\n",
      "Requirement already satisfied: sortedcontainers in ./myenv/lib/python3.12/site-packages (from trio~=0.30.0->selenium) (2.4.0)\n",
      "Requirement already satisfied: idna in ./myenv/lib/python3.12/site-packages (from trio~=0.30.0->selenium) (3.10)\n",
      "Requirement already satisfied: outcome in ./myenv/lib/python3.12/site-packages (from trio~=0.30.0->selenium) (1.3.0.post0)\n",
      "Requirement already satisfied: sniffio>=1.3.0 in ./myenv/lib/python3.12/site-packages (from trio~=0.30.0->selenium) (1.3.1)\n",
      "Requirement already satisfied: wsproto>=0.14 in ./myenv/lib/python3.12/site-packages (from trio-websocket~=0.12.2->selenium) (1.2.0)\n",
      "Requirement already satisfied: pysocks!=1.5.7,<2.0,>=1.5.6 in ./myenv/lib/python3.12/site-packages (from urllib3[socks]~=2.4.0->selenium) (1.7.1)\n",
      "Requirement already satisfied: h11<1,>=0.9.0 in ./myenv/lib/python3.12/site-packages (from wsproto>=0.14->trio-websocket~=0.12.2->selenium) (0.16.0)\n",
      "Downloading tabulate-0.9.0-py3-none-any.whl (35 kB)\n",
      "Installing collected packages: tabulate\n",
      "Successfully installed tabulate-0.9.0\n",
      "Note: you may need to restart the kernel to use updated packages.\n"
     ]
    }
   ],
   "source": [
    "pip install selenium tabulate"
   ]
  },
  {
   "cell_type": "code",
   "execution_count": 19,
   "id": "3fa48a6a-ad97-46f8-91f3-8c556be68800",
   "metadata": {},
   "outputs": [],
   "source": [
    "from selenium import webdriver\n",
    "from selenium.webdriver.common.by import By\n",
    "from selenium.webdriver.support.ui import Select\n",
    "from selenium.webdriver.chrome.service import Service\n",
    "from selenium.webdriver.chrome.options import Options\n",
    "import time\n",
    "\n",
    "chrome_options = Options()\n",
    "chrome_options.add_argument(\"--start-maximized\")\n",
    "\n",
    "service = Service('/usr/bin/chromedriver')\n",
    "driver = webdriver.Chrome(service=service, options=chrome_options)\n",
    "\n",
    "driver.get(\"https://parents.kletech.ac.in/\")"
   ]
  },
  {
   "cell_type": "code",
   "execution_count": 20,
   "id": "4fee298d-6b34-458b-805c-ff071fc8abf9",
   "metadata": {},
   "outputs": [],
   "source": [
    "usn_input = driver.find_element(By.ID, \"username\")\n",
    "usn_input.send_keys(\"YOUR_USN\")\n",
    "\n",
    "day_select = Select(driver.find_element(By.CLASS_NAME, \"inputselectday\"))\n",
    "day_select.select_by_visible_text(\"dd\")\n",
    "\n",
    "month_select = Select(driver.find_element(By.CLASS_NAME, \"inputselectmon\"))\n",
    "month_select.select_by_visible_text(\"mm\")\n",
    "\n",
    "year_select = Select(driver.find_element(By.CLASS_NAME, \"inputselectyear\"))\n",
    "year_select.select_by_visible_text(\"yyyy\")\n",
    "\n",
    "login_button = driver.find_element(By.CLASS_NAME, \"cn-login-btn\")\n",
    "login_button.click()\n"
   ]
  },
  {
   "cell_type": "code",
   "execution_count": 23,
   "id": "c1a18b25-8a21-48b8-85f6-4ef6f02b0e31",
   "metadata": {},
   "outputs": [
    {
     "data": {
      "text/plain": [
       "<selenium.webdriver.remote.webelement.WebElement (session=\"2701a409dcd9c189643ae2bc6090e283\", element=\"f.5C1B4077F59D663B7F5152C5CB48FFDE.d.09E5E65C8723E850B1629475F8646354.e.47\")>"
      ]
     },
     "execution_count": 23,
     "metadata": {},
     "output_type": "execute_result"
    }
   ],
   "source": [
    "from selenium.webdriver.support.ui import WebDriverWait\n",
    "from selenium.webdriver.support import expected_conditions as EC\n",
    "from bs4 import BeautifulSoup\n",
    "import re\n",
    "import ast\n",
    "\n",
    "WebDriverWait(driver, 10).until(\n",
    "    EC.presence_of_element_located((By.CLASS_NAME, \"cn-cie-stat\"))\n",
    ")"
   ]
  },
  {
   "cell_type": "code",
   "execution_count": 32,
   "id": "c67e954a-cc7b-46ea-9893-09deb8e4cbc5",
   "metadata": {},
   "outputs": [
    {
     "name": "stdout",
     "output_type": "stream",
     "text": [
      "\n",
      "         \n",
      "         var chart = bb.generate({\n",
      "data: {\n",
      "columns: [[\"23ECSC303\",41],[\"24ECSC305\",53],[\"24ECSC307\",41],[\"24ECSP305\",71],[\"24ECSW302\",47],[\"23EHSA304\",56],[\"16EHSC301\",41],[\"24ECSE309\",48], ],\n",
      "type: \"bar\"\n",
      "},\n",
      "\n",
      "bar: {\n",
      "radius: {\n",
      "ratio: 0.5\n",
      "},\n",
      "padding: 12\n",
      "},\n",
      "\n",
      "bindto: \"#barPadding\"\n",
      "});\n",
      "       \n"
     ]
    }
   ],
   "source": [
    "from selenium.webdriver.support.ui import WebDriverWait\n",
    "from selenium.webdriver.support import expected_conditions as EC\n",
    "\n",
    "wait = WebDriverWait(driver, 10)\n",
    "script_tag = wait.until(EC.presence_of_element_located((\n",
    "    By.XPATH, \"/html/body/div/div/div[6]/div[1]/div/script\"\n",
    ")))\n",
    "\n",
    "script_text = script_tag.get_attribute(\"innerText\")\n",
    "print(script_text)"
   ]
  },
  {
   "cell_type": "code",
   "execution_count": 33,
   "id": "364b6337-815d-4ad9-b3cb-36a1171120e2",
   "metadata": {},
   "outputs": [
    {
     "name": "stdout",
     "output_type": "stream",
     "text": [
      "23ECSC303: 41\n",
      "24ECSC305: 53\n",
      "24ECSC307: 41\n",
      "24ECSP305: 71\n",
      "24ECSW302: 47\n",
      "23EHSA304: 56\n",
      "16EHSC301: 41\n",
      "24ECSE309: 48\n"
     ]
    }
   ],
   "source": [
    "import re\n",
    "\n",
    "matches = re.findall(r'\\[\"([A-Z0-9]+)\",\\s*(\\d+)\\]', script_text)\n",
    "for code, mark in matches:\n",
    "    print(f\"{code}: {mark}\")"
   ]
  },
  {
   "cell_type": "code",
   "execution_count": 34,
   "id": "cde78ec7-0d34-4839-bbd8-967c3f5b1ee4",
   "metadata": {},
   "outputs": [
    {
     "name": "stdout",
     "output_type": "stream",
     "text": [
      "✅ Course Mapping: {'23ECSC303': 'Computer Networks-2', '24ECSC305': 'Cloud Computing', '24ECSC307': 'Natural Language Processing and Gen AI', '24ECSP305': 'Computer Networks Lab', '24ECSW302': 'Minor Project', '23EHSA304': 'Industry Readiness & Leadership Skills', '16EHSC301': 'Professional Aptitude & Logical Reasoning', '24ECSE309': 'Algorithmic Problem Solving'}\n"
     ]
    }
   ],
   "source": [
    "tbody = driver.find_element(By.XPATH, \"/html/body/div/div/div[8]/div/div/div/table/tbody\")\n",
    "\n",
    "rows = tbody.find_elements(By.TAG_NAME, \"tr\")\n",
    "\n",
    "course_names = {}\n",
    "\n",
    "for row in rows:\n",
    "    tds = row.find_elements(By.TAG_NAME, \"td\")\n",
    "    if len(tds) >= 2:\n",
    "        course_code = tds[0].text.strip()\n",
    "        course_name = tds[1].text.strip()\n",
    "        course_names[course_code] = course_name\n",
    "\n",
    "print(\"Course Mapping:\", course_names)\n"
   ]
  },
  {
   "cell_type": "code",
   "execution_count": 35,
   "id": "793dd5b0-2c54-4522-b8a0-7eee4e5f83ad",
   "metadata": {},
   "outputs": [
    {
     "name": "stdout",
     "output_type": "stream",
     "text": [
      "Computer Networks-2: 41\n",
      "Cloud Computing: 53\n",
      "Natural Language Processing and Gen AI: 41\n",
      "Computer Networks Lab: 71\n",
      "Minor Project: 47\n",
      "Industry Readiness & Leadership Skills: 56\n",
      "Professional Aptitude & Logical Reasoning: 41\n",
      "Algorithmic Problem Solving: 48\n"
     ]
    }
   ],
   "source": [
    "final_data = {}\n",
    "\n",
    "for code, mark in matches:\n",
    "    subject = course_names.get(code, \"Unknown\")\n",
    "    final_data[subject] = int(mark)\n",
    "\n",
    "for subject, mark in final_data.items():\n",
    "    print(f\"{subject}: {mark}\")\n"
   ]
  },
  {
   "cell_type": "code",
   "execution_count": null,
   "id": "9cb83bad-57d1-4c69-9108-c75d591ba025",
   "metadata": {},
   "outputs": [],
   "source": [
    "# attendance"
   ]
  },
  {
   "cell_type": "code",
   "execution_count": 36,
   "id": "ccda12de-2b23-480e-8762-ab2900110354",
   "metadata": {},
   "outputs": [
    {
     "name": "stdout",
     "output_type": "stream",
     "text": [
      "\n",
      "         var chart = bb.generate({\n",
      "         data: {\n",
      "         columns: [[\"23ECSC303\",71],[\"24ECSC305\",61],[\"24ECSC307\",76],[\"24ECSP305\",70],[\"24ECSW302\",0],[\"23EHSA304\",40],[\"16EHSC301\",71],[\"24ECSE309\",96],         ],\n",
      "         type: \"gauge\"\n",
      "         },\n",
      "         gauge: {\n",
      "         type: \"multi\",\n",
      "         max: 100,\n",
      "         min: -0,\n",
      "         arcs: {\n",
      "         minWidth: 5\n",
      "         }\n",
      "         },\n",
      "         size: {\n",
      "         height: 300\n",
      "         },\n",
      "         bindto: \"#gaugeTypeMulti\"\n",
      "         });\n",
      "         \n",
      "         setTimeout(function() {\n",
      "         chart.load({\n",
      "          });\n",
      "         }, 2000);\n",
      "       \n"
     ]
    }
   ],
   "source": [
    "from selenium.webdriver.support.ui import WebDriverWait\n",
    "from selenium.webdriver.support import expected_conditions as EC\n",
    "\n",
    "wait = WebDriverWait(driver, 10)\n",
    "script_tag = wait.until(EC.presence_of_element_located((\n",
    "    By.XPATH, \"/html/body/div/div/div[6]/div[2]/div/script\"\n",
    ")))\n",
    "\n",
    "script_text = script_tag.get_attribute(\"innerText\")\n",
    "print(script_text)"
   ]
  },
  {
   "cell_type": "code",
   "execution_count": 37,
   "id": "cda39f49-bc71-4dd3-8252-c43bf096e684",
   "metadata": {},
   "outputs": [
    {
     "name": "stdout",
     "output_type": "stream",
     "text": [
      "23ECSC303: 71\n",
      "24ECSC305: 61\n",
      "24ECSC307: 76\n",
      "24ECSP305: 70\n",
      "24ECSW302: 0\n",
      "23EHSA304: 40\n",
      "16EHSC301: 71\n",
      "24ECSE309: 96\n"
     ]
    }
   ],
   "source": [
    "import re\n",
    "\n",
    "matches = re.findall(r'\\[\"([A-Z0-9]+)\",\\s*(\\d+)\\]', script_text)\n",
    "for code, attendance in matches:\n",
    "    print(f\"{code}: {attendance}\")"
   ]
  },
  {
   "cell_type": "code",
   "execution_count": 39,
   "id": "0ea3d98a-d918-4b76-a840-0a39835936c6",
   "metadata": {},
   "outputs": [],
   "source": [
    "final_data_attendance = {}\n",
    "\n",
    "for code, mark in matches:\n",
    "    subject = course_names.get(code, \"Unknown\")\n",
    "    final_data_attendance[subject] = int(mark)\n",
    "\n",
    "for subject, mark in final_data_attendace.items():\n",
    "    print(f\"{subject}: {mark}\")"
   ]
  },
  {
   "cell_type": "code",
   "execution_count": null,
   "id": "d8579b42-0c4a-4929-83c9-3a3709155f1c",
   "metadata": {},
   "outputs": [],
   "source": [
    "# Cleanup\n",
    "driver.quit()"
   ]
  },
  {
   "cell_type": "code",
   "execution_count": 43,
   "id": "f19221ab-db30-4023-961e-afcf37ba677a",
   "metadata": {},
   "outputs": [
    {
     "name": "stdout",
     "output_type": "stream",
     "text": [
      "\n",
      "Final Report Table:\n",
      "\n",
      "+-------------------------------------------+-------------+----------------+\n",
      "| Subject                                   |   CIE Marks | Attendance %   |\n",
      "+===========================================+=============+================+\n",
      "| Algorithmic Problem Solving               |          48 | 96%            |\n",
      "+-------------------------------------------+-------------+----------------+\n",
      "| Cloud Computing                           |          53 | 61%            |\n",
      "+-------------------------------------------+-------------+----------------+\n",
      "| Computer Networks Lab                     |          71 | 70%            |\n",
      "+-------------------------------------------+-------------+----------------+\n",
      "| Computer Networks-2                       |          41 | 71%            |\n",
      "+-------------------------------------------+-------------+----------------+\n",
      "| Industry Readiness & Leadership Skills    |          56 | 40%            |\n",
      "+-------------------------------------------+-------------+----------------+\n",
      "| Minor Project                             |          47 | 0%             |\n",
      "+-------------------------------------------+-------------+----------------+\n",
      "| Natural Language Processing and Gen AI    |          41 | 76%            |\n",
      "+-------------------------------------------+-------------+----------------+\n",
      "| Professional Aptitude & Logical Reasoning |          41 | 71%            |\n",
      "+-------------------------------------------+-------------+----------------+\n"
     ]
    }
   ],
   "source": [
    "from selenium import webdriver\n",
    "from selenium.webdriver.common.by import By\n",
    "from selenium.webdriver.support.ui import Select, WebDriverWait\n",
    "from selenium.webdriver.support import expected_conditions as EC\n",
    "from selenium.webdriver.chrome.service import Service\n",
    "from selenium.webdriver.chrome.options import Options\n",
    "from tabulate import tabulate \n",
    "import re\n",
    "import time\n",
    "\n",
    "chrome_options = Options()\n",
    "chrome_options.add_argument(\"--start-maximized\")\n",
    "service = Service('/usr/bin/chromedriver')\n",
    "driver = webdriver.Chrome(service=service, options=chrome_options)\n",
    "\n",
    "driver.get(\"https://parents.kletech.ac.in/\")\n",
    "\n",
    "driver.find_element(By.ID, \"username\").send_keys(\"01FE22BCS264\")\n",
    "\n",
    "Select(driver.find_element(By.CLASS_NAME, \"inputselectday\")).select_by_visible_text(\"09\")\n",
    "Select(driver.find_element(By.CLASS_NAME, \"inputselectmon\")).select_by_visible_text(\"Feb\")\n",
    "Select(driver.find_element(By.CLASS_NAME, \"inputselectyear\")).select_by_visible_text(\"2004\")\n",
    "\n",
    "driver.find_element(By.CLASS_NAME, \"cn-login-btn\").click()\n",
    "\n",
    "WebDriverWait(driver, 10).until(EC.presence_of_element_located((By.CLASS_NAME, \"cn-cie-stat\")))\n",
    "\n",
    "cie_script = WebDriverWait(driver, 10).until(\n",
    "    EC.presence_of_element_located((By.XPATH, \"/html/body/div/div/div[6]/div[1]/div/script\"))\n",
    ")\n",
    "cie_text = cie_script.get_attribute(\"innerText\")\n",
    "cie_matches = re.findall(r'\\[\"([A-Z0-9]+)\",\\s*(\\d+)\\]', cie_text)\n",
    "\n",
    "tbody = driver.find_element(By.XPATH, \"/html/body/div/div/div[8]/div/div/div/table/tbody\")\n",
    "rows = tbody.find_elements(By.TAG_NAME, \"tr\")\n",
    "course_names = {}\n",
    "\n",
    "for row in rows:\n",
    "    tds = row.find_elements(By.TAG_NAME, \"td\")\n",
    "    if len(tds) >= 2:\n",
    "        code = tds[0].text.strip()\n",
    "        name = tds[1].text.strip()\n",
    "        course_names[code] = name\n",
    "\n",
    "cie_data = {}\n",
    "for code, mark in cie_matches:\n",
    "    subject = course_names.get(code, \"Unknown\")\n",
    "    cie_data[subject] = int(mark)\n",
    "\n",
    "attendance_script = WebDriverWait(driver, 10).until(\n",
    "    EC.presence_of_element_located((By.XPATH, \"/html/body/div/div/div[6]/div[2]/div/script\"))\n",
    ")\n",
    "attendance_text = attendance_script.get_attribute(\"innerText\")\n",
    "attendance_matches = re.findall(r'\\[\"([A-Z0-9]+)\",\\s*(\\d+)\\]', attendance_text)\n",
    "\n",
    "attendance_data = {}\n",
    "for code, percent in attendance_matches:\n",
    "    subject = course_names.get(code, \"Unknown\")\n",
    "    attendance_data[subject] = int(percent)\n",
    "\n",
    "table = []\n",
    "\n",
    "all_subjects = set(cie_data.keys()) | set(attendance_data.keys())\n",
    "for subject in sorted(all_subjects):\n",
    "    cie = cie_data.get(subject, \"-\")\n",
    "    att = attendance_data.get(subject, \"-\")\n",
    "    table.append([subject, cie, f\"{att}%\" if att != \"-\" else \"-\"])\n",
    "\n",
    "print(\"\\nFinal Report Table:\\n\")\n",
    "print(tabulate(table, headers=[\"Subject\", \"CIE Marks\", \"Attendance %\"], tablefmt=\"grid\"))\n",
    "\n",
    "driver.quit()"
   ]
  }
 ],
 "metadata": {
  "kernelspec": {
   "display_name": "Python 3 (ipykernel)",
   "language": "python",
   "name": "python3"
  },
  "language_info": {
   "codemirror_mode": {
    "name": "ipython",
    "version": 3
   },
   "file_extension": ".py",
   "mimetype": "text/x-python",
   "name": "python",
   "nbconvert_exporter": "python",
   "pygments_lexer": "ipython3",
   "version": "3.12.3"
  }
 },
 "nbformat": 4,
 "nbformat_minor": 5
}
